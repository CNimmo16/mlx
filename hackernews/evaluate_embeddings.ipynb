{
 "cells": [
  {
   "cell_type": "code",
   "execution_count": 17,
   "metadata": {},
   "outputs": [
    {
     "name": "stderr",
     "output_type": "stream",
     "text": [
      "\u001b[34m\u001b[1mwandb\u001b[0m:   1 of 1 files downloaded.  \n",
      "\u001b[34m\u001b[1mwandb\u001b[0m:   1 of 1 files downloaded.  \n"
     ]
    },
    {
     "data": {
      "text/plain": [
       "<module 'embeddings' from '/Users/cameron/Documents/mlx/hackernews/embeddings.py'>"
      ]
     },
     "execution_count": 17,
     "metadata": {},
     "output_type": "execute_result"
    }
   ],
   "source": [
    "import importlib\n",
    "\n",
    "import torch\n",
    "from models import skipgram\n",
    "import pandas as pd\n",
    "import os\n",
    "from util import artifacts\n",
    "importlib.reload(artifacts)\n",
    "import tokenization\n",
    "import embeddings\n",
    "importlib.reload(embeddings)"
   ]
  },
  {
   "cell_type": "code",
   "execution_count": 18,
   "metadata": {},
   "outputs": [
    {
     "name": "stderr",
     "output_type": "stream",
     "text": [
      "\u001b[34m\u001b[1mwandb\u001b[0m:   1 of 1 files downloaded.  \n",
      "\u001b[34m\u001b[1mwandb\u001b[0m:   1 of 1 files downloaded.  \n"
     ]
    }
   ],
   "source": [
    "vocab = artifacts.load_artifacts()['vocab']\n",
    "\n",
    "# #find the n most similar words\n",
    "def most_similar(word, n=5):\n",
    "    A = embeddings.get_embeddings_for_token(word).unsqueeze(0)\n",
    "    word_similarities = []\n",
    "    for other_word, id in vocab.iterrows():\n",
    "        B =  embeddings.get_embeddings_for_token(other_word).unsqueeze(0)\n",
    "        cosine_similarity = torch.nn.functional.cosine_similarity(A, B, dim=1)\n",
    "        word_similarities.append((other_word, cosine_similarity.item()))\n",
    "    word_similarities = sorted(word_similarities, key=lambda x: x[1], reverse=True)\n",
    "    return word_similarities[:n]"
   ]
  },
  {
   "cell_type": "code",
   "execution_count": 19,
   "metadata": {},
   "outputs": [
    {
     "data": {
      "text/plain": [
       "[('python', 1.0),\n",
       " ('bump', 0.5347690582275391),\n",
       " ('edit', 0.5269464254379272),\n",
       " ('dotcoms', 0.5182161331176758),\n",
       " ('java', 0.5070761442184448)]"
      ]
     },
     "execution_count": 19,
     "metadata": {},
     "output_type": "execute_result"
    }
   ],
   "source": [
    "most_similar('python')"
   ]
  }
 ],
 "metadata": {
  "kernelspec": {
   "display_name": "mlx-8wZyJbLr-py3.13",
   "language": "python",
   "name": "python3"
  },
  "language_info": {
   "codemirror_mode": {
    "name": "ipython",
    "version": 3
   },
   "file_extension": ".py",
   "mimetype": "text/x-python",
   "name": "python",
   "nbconvert_exporter": "python",
   "pygments_lexer": "ipython3",
   "version": "3.13.1"
  }
 },
 "nbformat": 4,
 "nbformat_minor": 2
}
