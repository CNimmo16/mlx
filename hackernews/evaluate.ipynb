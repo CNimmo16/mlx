{
 "cells": [
  {
   "cell_type": "code",
   "execution_count": 6,
   "metadata": {},
   "outputs": [
    {
     "name": "stderr",
     "output_type": "stream",
     "text": [
      "[nltk_data] Downloading package stopwords to\n",
      "[nltk_data]     /Users/cameron/nltk_data...\n",
      "[nltk_data]   Package stopwords is already up-to-date!\n"
     ]
    },
    {
     "data": {
      "text/plain": [
       "<module 'util.artifacts' from '/Users/cameron/Documents/mlx/hackernews/util/artifacts.py'>"
      ]
     },
     "execution_count": 6,
     "metadata": {},
     "output_type": "execute_result"
    }
   ],
   "source": [
    "import torch\n",
    "from models import skipgram\n",
    "import pandas as pd\n",
    "import os\n",
    "from util import artifacts\n",
    "import tokenization\n",
    "\n",
    "import importlib\n",
    "importlib.reload(artifacts)"
   ]
  },
  {
   "cell_type": "code",
   "execution_count": 7,
   "metadata": {},
   "outputs": [
    {
     "name": "stderr",
     "output_type": "stream",
     "text": [
      "\u001b[34m\u001b[1mwandb\u001b[0m:   1 of 1 files downloaded.  \n",
      "\u001b[34m\u001b[1mwandb\u001b[0m:   1 of 1 files downloaded.  \n"
     ]
    }
   ],
   "source": [
    "loaded_artifacts = artifacts.load_artifacts()"
   ]
  },
  {
   "cell_type": "code",
   "execution_count": null,
   "metadata": {},
   "outputs": [
    {
     "data": {
      "text/plain": [
       "tensor([0.1222])"
      ]
     },
     "execution_count": 55,
     "metadata": {},
     "output_type": "execute_result"
    }
   ],
   "source": [
    "state_dict = loaded_artifacts['state_dict']\n",
    "vocab = loaded_artifacts['vocab'].set_index('token')\n",
    "\n",
    "model = skipgram.Model(vocab.size + 1, skipgram.EMBEDDING_DIM)\n",
    "\n",
    "# #find the n most similar words\n",
    "def most_similar(word, n=5):\n",
    "    word_idx = tokenization.getIdFromToken(vocab, word)\n",
    "    if (word_idx == tokenization.getIdFromToken(vocab, 'unk')):\n",
    "        raise ValueError(\"Word not found in vocabulary\")\n",
    "    A =  state_dict['embeddings.weight'][word_idx].unsqueeze(0)\n",
    "    word_similarities = []\n",
    "    for token, id in vocab.iterrows():\n",
    "        word_idx = tokenization.getIdFromToken(vocab, token)\n",
    "        B =  state_dict['embeddings.weight'][word_idx].unsqueeze(0)\n",
    "        cosine_similarity = torch.nn.functional.cosine_similarity(A, B, dim=1)\n",
    "        word_similarities.append((token, cosine_similarity.item()))\n",
    "    word_similarities = sorted(word_similarities, key=lambda x: x[1], reverse=True)\n",
    "    return word_similarities[:n]\n",
    "\n",
    "def similarity(word1, word2):\n",
    "    word1_idx = tokenization.getIdFromToken(vocab, word1)\n",
    "    if (word1_idx == tokenization.getIdFromToken(vocab, 'unk')):\n",
    "        raise ValueError(\"Word not found in vocabulary\")\n",
    "    A =  state_dict['embeddings.weight'][word1_idx].unsqueeze(0)\n",
    "    word2_idx = tokenization.getIdFromToken(vocab, word2)\n",
    "    if (word2_idx == tokenization.getIdFromToken(vocab, 'unk')):\n",
    "        raise ValueError(\"Word not found in vocabulary\")\n",
    "    B =  state_dict['embeddings.weight'][word2_idx].unsqueeze(0)\n",
    "    cosine_similarity = torch.nn.functional.cosine_similarity(A, B, dim=1)\n",
    "    return cosine_similarity\n"
   ]
  }
 ],
 "metadata": {
  "kernelspec": {
   "display_name": "mlx-8wZyJbLr-py3.13",
   "language": "python",
   "name": "python3"
  },
  "language_info": {
   "codemirror_mode": {
    "name": "ipython",
    "version": 3
   },
   "file_extension": ".py",
   "mimetype": "text/x-python",
   "name": "python",
   "nbconvert_exporter": "python",
   "pygments_lexer": "ipython3",
   "version": "3.13.1"
  }
 },
 "nbformat": 4,
 "nbformat_minor": 2
}
