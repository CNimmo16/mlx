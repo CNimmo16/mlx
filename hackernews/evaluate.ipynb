{
 "cells": [
  {
   "cell_type": "code",
   "execution_count": 20,
   "metadata": {},
   "outputs": [],
   "source": [
    "import torch\n",
    "from models import skipgram\n",
    "import pandas as pd\n",
    "import torch.nn.functional as F"
   ]
  },
  {
   "cell_type": "code",
   "execution_count": 22,
   "metadata": {},
   "outputs": [],
   "source": [
    "vocab = pd.read_csv('./data/vocab.generated.csv', index_col='token')\n",
    "\n",
    "def getIdFromToken(token: str):\n",
    "    try:\n",
    "        return int(vocab.at[token, 'id'])\n",
    "    except:\n",
    "        return int(vocab.at['unk', 'id'])\n",
    "\n",
    "def getTokenFromId(id: float):\n",
    "    return vocab[vocab['id'] == id].index"
   ]
  },
  {
   "cell_type": "code",
   "execution_count": 18,
   "metadata": {},
   "outputs": [
    {
     "name": "stdout",
     "output_type": "stream",
     "text": [
      "OrderedDict([('embeddings.weight', tensor([[ 1.9269,  1.4873,  0.9007,  ..., -0.4879, -0.9138, -0.6581],\n",
      "        [ 0.0780,  0.5258, -0.4880,  ...,  0.4880,  0.7846,  0.0286],\n",
      "        [ 0.6408,  0.5832,  1.0669,  ...,  1.4506,  0.2695, -0.2104],\n",
      "        ...,\n",
      "        [-0.9871,  0.1414, -0.0884,  ...,  0.1128, -0.6210, -0.6534],\n",
      "        [-0.2218, -1.2008,  1.3206,  ...,  0.1845,  0.2944, -1.4129],\n",
      "        [ 0.4092,  1.3424,  1.0782,  ..., -1.3501, -0.6740, -0.4540]])), ('linear.weight', tensor([[-0.3266, -0.2425, -0.2588,  ...,  0.3584,  0.4915, -0.3154],\n",
      "        [-0.4095, -0.2458, -0.1848,  ...,  0.2910,  0.3717, -0.2463],\n",
      "        [-0.3900, -0.3171, -0.2505,  ...,  0.3838,  0.4324, -0.2738],\n",
      "        ...,\n",
      "        [-0.4033, -0.2710, -0.3405,  ...,  0.2478,  0.4471, -0.2722],\n",
      "        [-0.3304, -0.1853, -0.2074,  ...,  0.2568,  0.5291, -0.2021],\n",
      "        [ 0.3876,  0.3989,  0.3868,  ..., -0.5307, -0.2387, -0.2268]])), ('linear.bias', tensor([-0.4209, -0.4239, -0.5138,  ..., -0.4904, -0.4274,  0.6131]))])\n"
     ]
    },
    {
     "name": "stderr",
     "output_type": "stream",
     "text": [
      "/var/folders/1y/mkp0dwnj2hb98l4zjyg2fjfc0000gn/T/ipykernel_87825/1703795876.py:3: FutureWarning: You are using `torch.load` with `weights_only=False` (the current default value), which uses the default pickle module implicitly. It is possible to construct malicious pickle data which will execute arbitrary code during unpickling (See https://github.com/pytorch/pytorch/blob/main/SECURITY.md#untrusted-models for more details). In a future release, the default value for `weights_only` will be flipped to `True`. This limits the functions that could be executed during unpickling. Arbitrary objects will no longer be allowed to be loaded via this mode unless they are explicitly allowlisted by the user via `torch.serialization.add_safe_globals`. We recommend you start setting `weights_only=True` for any use case where you don't have full control of the loaded file. Please open an issue on GitHub for any issues related to this experimental feature.\n",
      "  state_dict = torch.load('./data/weights.generated.pt')\n"
     ]
    }
   ],
   "source": [
    "\n",
    "model = skipgram.Model(vocab.size + 1, skipgram.EMBEDDING_DIM)\n",
    "\n",
    "state_dict = torch.load('./data/weights.generated.pt')\n",
    "# model.load_state_dict(weights)\n",
    "# model.eval()\n",
    "\n",
    "print(state_dict)\n"
   ]
  },
  {
   "cell_type": "code",
   "execution_count": 23,
   "metadata": {},
   "outputs": [
    {
     "data": {
      "text/plain": [
       "[(Index(['murderers'], dtype='object', name='token'), 0.5212107300758362),\n",
       " (Index(['wavefunction'], dtype='object', name='token'), 0.5169843435287476),\n",
       " (Index(['accenture'], dtype='object', name='token'), 0.5166984796524048),\n",
       " (Index(['icaza'], dtype='object', name='token'), 0.5114834308624268),\n",
       " (Index(['parallelized'], dtype='object', name='token'), 0.5112743973731995)]"
      ]
     },
     "execution_count": 23,
     "metadata": {},
     "output_type": "execute_result"
    }
   ],
   "source": [
    "#find the n most similar words\n",
    "def most_similar(word, n=5):\n",
    "    word_idx = getIdFromToken(word)\n",
    "    A =  state_dict['embeddings.weight'][word_idx].unsqueeze(0)\n",
    "    word_similarities = []\n",
    "    for i in range(len(vocab)):\n",
    "        B =  model.embeddings.weight[i].unsqueeze(0)\n",
    "        cosine_similarity = F.cosine_similarity(A, B, dim=1)\n",
    "        word_similarities.append((getTokenFromId(i), cosine_similarity.item()))\n",
    "    word_similarities = sorted(word_similarities, key=lambda x: x[1], reverse=True)\n",
    "    return word_similarities[:n]\n",
    "\n",
    "most_similar('python')"
   ]
  }
 ],
 "metadata": {
  "kernelspec": {
   "display_name": ".venv",
   "language": "python",
   "name": "python3"
  },
  "language_info": {
   "codemirror_mode": {
    "name": "ipython",
    "version": 3
   },
   "file_extension": ".py",
   "mimetype": "text/x-python",
   "name": "python",
   "nbconvert_exporter": "python",
   "pygments_lexer": "ipython3",
   "version": "3.9.6"
  }
 },
 "nbformat": 4,
 "nbformat_minor": 2
}
