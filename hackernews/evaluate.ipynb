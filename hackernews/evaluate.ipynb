{
 "cells": [
  {
   "cell_type": "code",
   "execution_count": 137,
   "metadata": {},
   "outputs": [
    {
     "data": {
      "text/plain": [
       "<module 'util.artifacts' from '/Users/cameron/Documents/mlx/hackernews/util/artifacts.py'>"
      ]
     },
     "execution_count": 137,
     "metadata": {},
     "output_type": "execute_result"
    }
   ],
   "source": [
    "import torch\n",
    "from models import skipgram\n",
    "import pandas as pd\n",
    "import os\n",
    "from util import artifacts\n",
    "\n",
    "import importlib\n",
    "importlib.reload(artifacts)"
   ]
  },
  {
   "cell_type": "code",
   "execution_count": 150,
   "metadata": {},
   "outputs": [
    {
     "name": "stderr",
     "output_type": "stream",
     "text": [
      "\u001b[34m\u001b[1mwandb\u001b[0m:   1 of 1 files downloaded.  \n",
      "\u001b[34m\u001b[1mwandb\u001b[0m:   1 of 1 files downloaded.  \n"
     ]
    }
   ],
   "source": [
    "loaded_artifacts = artifacts.load_artifacts()"
   ]
  },
  {
   "cell_type": "code",
   "execution_count": null,
   "metadata": {},
   "outputs": [
    {
     "data": {
      "text/plain": [
       "[('javascript', 1.0),\n",
       " ('java', 0.5587868094444275),\n",
       " ('django', 0.557133674621582),\n",
       " ('pdf', 0.5392530560493469),\n",
       " ('nigerias', 0.5322160720825195)]"
      ]
     },
     "execution_count": 152,
     "metadata": {},
     "output_type": "execute_result"
    }
   ],
   "source": [
    "state_dict = loaded_artifacts['state_dict']\n",
    "vocab = loaded_artifacts['vocab'].set_index('token')\n",
    "\n",
    "model = skipgram.Model(vocab.size + 1, skipgram.EMBEDDING_DIM)\n",
    "\n",
    "def getIdFromToken(token: str):\n",
    "    try:\n",
    "        return int(vocab.at[token, 'id'])\n",
    "    except:\n",
    "        return int(vocab.at['unk', 'id'])\n",
    "\n",
    "# #find the n most similar words\n",
    "def most_similar(word, n=5):\n",
    "    word_idx = getIdFromToken(word)\n",
    "    A =  state_dict['embeddings.weight'][word_idx].unsqueeze(0)\n",
    "    word_similarities = []\n",
    "    for token, id in vocab.iterrows():\n",
    "        word_idx = getIdFromToken(token)\n",
    "        B =  state_dict['embeddings.weight'][word_idx].unsqueeze(0)\n",
    "        cosine_similarity = torch.nn.functional.cosine_similarity(A, B, dim=1)\n",
    "        word_similarities.append((token, cosine_similarity.item()))\n",
    "    word_similarities = sorted(word_similarities, key=lambda x: x[1], reverse=True)\n",
    "    return word_similarities[:n]\n",
    "\n",
    "# girl_id = getIdFromToken('girl')\n",
    "# girl = model.embeddings.weight[girl_id].unsqueeze(0)\n",
    "# boy_id = getIdFromToken('boy')\n",
    "# boy = model.embeddings.weight[boy_id].unsqueeze(0)\n",
    "# torch.nn.functional.cosine_similarity(girl, boy, dim=1)\n",
    "\n",
    "most_similar('javascript')"
   ]
  }
 ],
 "metadata": {
  "kernelspec": {
   "display_name": "mlx-8wZyJbLr-py3.13",
   "language": "python",
   "name": "python3"
  },
  "language_info": {
   "codemirror_mode": {
    "name": "ipython",
    "version": 3
   },
   "file_extension": ".py",
   "mimetype": "text/x-python",
   "name": "python",
   "nbconvert_exporter": "python",
   "pygments_lexer": "ipython3",
   "version": "3.13.1"
  }
 },
 "nbformat": 4,
 "nbformat_minor": 2
}
