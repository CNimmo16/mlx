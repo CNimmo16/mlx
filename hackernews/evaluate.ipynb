{
 "cells": [
  {
   "cell_type": "code",
   "execution_count": 4,
   "metadata": {},
   "outputs": [
    {
     "name": "stderr",
     "output_type": "stream",
     "text": [
      "\u001b[34m\u001b[1mwandb\u001b[0m:   1 of 1 files downloaded.  \n"
     ]
    }
   ],
   "source": [
    "import torch\n",
    "from models import skipgram\n",
    "import pandas as pd\n",
    "import torch.nn.functional as F\n",
    "import wandb\n",
    "\n",
    "run = wandb.init(project=\"word2vec\")\n",
    "artifact = run.use_artifact(\"model-weights:latest\")\n",
    "datadir = artifact.download()"
   ]
  },
  {
   "cell_type": "code",
   "execution_count": 5,
   "metadata": {},
   "outputs": [],
   "source": [
    "vocab = pd.read_csv('./data/vocab.generated.csv', index_col='token')\n",
    "\n",
    "def getIdFromToken(token: str):\n",
    "    try:\n",
    "        return int(vocab.at[token, 'id'])\n",
    "    except:\n",
    "        return int(vocab.at['unk', 'id'])\n",
    "\n",
    "def getTokenFromId(id: float):\n",
    "    return vocab[vocab['id'] == id].index"
   ]
  },
  {
   "cell_type": "code",
   "execution_count": 6,
   "metadata": {},
   "outputs": [
    {
     "name": "stdout",
     "output_type": "stream",
     "text": [
      "OrderedDict({'embeddings.weight': tensor([[ 1.9269,  1.4873,  0.9007,  ..., -0.4879, -0.9138, -0.6581],\n",
      "        [ 0.0780,  0.5258, -0.4880,  ...,  0.4880,  0.7846,  0.0286],\n",
      "        [ 0.6531,  0.6823,  1.3485,  ...,  2.0001,  0.7429, -0.7462],\n",
      "        ...,\n",
      "        [-1.0039,  0.4795,  0.2109,  ..., -0.1502, -1.1138, -0.6855],\n",
      "        [-0.5354, -1.8264,  1.7771,  ...,  0.0122,  0.5465, -1.7636],\n",
      "        [ 0.1913,  1.1691,  0.8277,  ..., -1.0659, -0.4108, -0.3927]]), 'linear.weight': tensor([[-0.0745, -0.0141,  0.0439,  ...,  0.0650,  0.1096, -0.1003],\n",
      "        [ 0.0433,  0.0672,  0.3224,  ...,  0.2404,  0.1880, -0.3250],\n",
      "        [-0.1883,  0.2614,  0.3691,  ...,  0.3557,  0.2716,  0.1511],\n",
      "        ...,\n",
      "        [ 0.0066, -0.4087,  0.1351,  ..., -0.2987, -0.0707, -0.2673],\n",
      "        [-0.1029,  0.2545,  0.1688,  ..., -0.0226, -0.0985, -0.0734],\n",
      "        [-0.3080, -0.1655,  0.1879,  ...,  0.0040,  0.2891, -0.3028]]), 'linear.bias': tensor([0.1127, 0.1187, 0.0247,  ..., 0.0525, 0.1041, 0.0242])})\n"
     ]
    }
   ],
   "source": [
    "\n",
    "model = skipgram.Model(vocab.size + 1, skipgram.EMBEDDING_DIM)\n",
    "\n",
    "state_dict = torch.load('./data/weights.generated.pt')\n",
    "# model.load_state_dict(weights)\n",
    "# model.eval()\n",
    "\n",
    "print(state_dict)\n"
   ]
  },
  {
   "cell_type": "code",
   "execution_count": 8,
   "metadata": {},
   "outputs": [
    {
     "data": {
      "text/plain": [
       "[(Index(['1520'], dtype='object', name='token'), 0.5886226892471313),\n",
       " (Index(['yutu'], dtype='object', name='token'), 0.5071915984153748),\n",
       " (Index(['alarm'], dtype='object', name='token'), 0.5047330856323242),\n",
       " (Index(['susan'], dtype='object', name='token'), 0.5008740425109863),\n",
       " (Index(['modernist'], dtype='object', name='token'), 0.49624010920524597)]"
      ]
     },
     "execution_count": 8,
     "metadata": {},
     "output_type": "execute_result"
    }
   ],
   "source": [
    "#find the n most similar words\n",
    "def most_similar(word, n=5):\n",
    "    word_idx = getIdFromToken(word)\n",
    "    A =  state_dict['embeddings.weight'][word_idx].unsqueeze(0)\n",
    "    word_similarities = []\n",
    "    for i in range(len(vocab)):\n",
    "        B =  model.embeddings.weight[i].unsqueeze(0)\n",
    "        cosine_similarity = F.cosine_similarity(A, B, dim=1)\n",
    "        word_similarities.append((getTokenFromId(i), cosine_similarity.item()))\n",
    "    word_similarities = sorted(word_similarities, key=lambda x: x[1], reverse=True)\n",
    "    return word_similarities[:n]\n",
    "\n",
    "most_similar('dog')"
   ]
  }
 ],
 "metadata": {
  "kernelspec": {
   "display_name": "mlx-8wZyJbLr-py3.13",
   "language": "python",
   "name": "python3"
  },
  "language_info": {
   "codemirror_mode": {
    "name": "ipython",
    "version": 3
   },
   "file_extension": ".py",
   "mimetype": "text/x-python",
   "name": "python",
   "nbconvert_exporter": "python",
   "pygments_lexer": "ipython3",
   "version": "3.13.1"
  }
 },
 "nbformat": 4,
 "nbformat_minor": 2
}
