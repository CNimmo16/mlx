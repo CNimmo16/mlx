{
 "cells": [
  {
   "cell_type": "code",
   "execution_count": 48,
   "metadata": {},
   "outputs": [
    {
     "name": "stderr",
     "output_type": "stream",
     "text": [
      "\u001b[34m\u001b[1mwandb\u001b[0m:   1 of 1 files downloaded.  \n"
     ]
    }
   ],
   "source": [
    "import torch\n",
    "from models import skipgram\n",
    "import pandas as pd\n",
    "import wandb\n",
    "import os\n",
    "\n",
    "run = wandb.init(project=\"word2vec\")\n",
    "artifact = run.use_artifact(\"model-weights:latest\")\n",
    "datadir = artifact.download()"
   ]
  },
  {
   "cell_type": "code",
   "execution_count": null,
   "metadata": {},
   "outputs": [
    {
     "name": "stdout",
     "output_type": "stream",
     "text": [
      "1930\n"
     ]
    },
    {
     "ename": "IndexError",
     "evalue": "Dimension out of range (expected to be in range of [-1, 0], but got 1)",
     "output_type": "error",
     "traceback": [
      "\u001b[0;31m---------------------------------------------------------------------------\u001b[0m",
      "\u001b[0;31mIndexError\u001b[0m                                Traceback (most recent call last)",
      "Cell \u001b[0;32mIn[79], line 33\u001b[0m\n\u001b[1;32m     31\u001b[0m boy_id \u001b[38;5;241m=\u001b[39m getIdFromToken(\u001b[38;5;124m'\u001b[39m\u001b[38;5;124mboy\u001b[39m\u001b[38;5;124m'\u001b[39m)\n\u001b[1;32m     32\u001b[0m boy \u001b[38;5;241m=\u001b[39m model\u001b[38;5;241m.\u001b[39membeddings\u001b[38;5;241m.\u001b[39mweight[boy_id]\n\u001b[0;32m---> 33\u001b[0m \u001b[43mtorch\u001b[49m\u001b[38;5;241;43m.\u001b[39;49m\u001b[43mnn\u001b[49m\u001b[38;5;241;43m.\u001b[39;49m\u001b[43mfunctional\u001b[49m\u001b[38;5;241;43m.\u001b[39;49m\u001b[43mcosine_similarity\u001b[49m\u001b[43m(\u001b[49m\u001b[43mgirl\u001b[49m\u001b[43m,\u001b[49m\u001b[43m \u001b[49m\u001b[43mboy\u001b[49m\u001b[43m,\u001b[49m\u001b[43m \u001b[49m\u001b[43mdim\u001b[49m\u001b[38;5;241;43m=\u001b[39;49m\u001b[38;5;241;43m1\u001b[39;49m\u001b[43m)\u001b[49m\n\u001b[1;32m     34\u001b[0m \u001b[38;5;66;03m# most_similar('python')\u001b[39;00m\n",
      "\u001b[0;31mIndexError\u001b[0m: Dimension out of range (expected to be in range of [-1, 0], but got 1)"
     ]
    }
   ],
   "source": [
    "# vocab = pd.read_csv(f\"data/vocab{'__mini' if skipgram.MINIMODE else ''}.generated.csv\", index_col='token')\n",
    "vocab = pd.read_csv(f\"data/vocab.generated.csv\", index_col='token')\n",
    "\n",
    "model = skipgram.Model(vocab.size + 1, skipgram.EMBEDDING_DIM)\n",
    "\n",
    "# state_dict = torch.load('./data/weights.generated.pt')\n",
    "state_dict = torch.load(os.path.join(datadir, 'weights.generated.pt'), map_location=torch.device('cpu'))\n",
    "\n",
    "def getIdFromToken(token: str):\n",
    "    try:\n",
    "        return int(vocab.at[token, 'id'])\n",
    "    except:\n",
    "        return int(vocab.at['unk', 'id'])\n",
    "\n",
    "#find the n most similar words\n",
    "def most_similar(word, n=5):\n",
    "    word_idx = getIdFromToken(word)\n",
    "    A =  state_dict['embeddings.weight'][word_idx].unsqueeze(0)\n",
    "    word_similarities = []\n",
    "    for token, ids in vocab.iterrows():\n",
    "        id = ids.values[0]\n",
    "        B =  model.embeddings.weight[id].unsqueeze(0)\n",
    "        cosine_similarity = torch.nn.functional.cosine_similarity(A, B, dim=1)\n",
    "        word_similarities.append((token, cosine_similarity.item()))\n",
    "    word_similarities = sorted(word_similarities, key=lambda x: x[1], reverse=True)\n",
    "    return word_similarities[:n]\n",
    "\n",
    "girl_id = getIdFromToken('girl')\n",
    "girl = model.embeddings.weight[girl_id]\n",
    "boy_id = getIdFromToken('boy')\n",
    "boy = model.embeddings.weight[boy_id]\n",
    "torch.nn.functional.cosine_similarity(girl, boy, dim=1)\n",
    "# most_similar('python')"
   ]
  }
 ],
 "metadata": {
  "kernelspec": {
   "display_name": "mlx-8wZyJbLr-py3.13",
   "language": "python",
   "name": "python3"
  },
  "language_info": {
   "codemirror_mode": {
    "name": "ipython",
    "version": 3
   },
   "file_extension": ".py",
   "mimetype": "text/x-python",
   "name": "python",
   "nbconvert_exporter": "python",
   "pygments_lexer": "ipython3",
   "version": "3.13.1"
  }
 },
 "nbformat": 4,
 "nbformat_minor": 2
}
