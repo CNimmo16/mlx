{
 "cells": [
  {
   "cell_type": "code",
   "execution_count": 5,
   "metadata": {},
   "outputs": [
    {
     "name": "stdout",
     "output_type": "stream",
     "text": [
      "MINI MODE: True\n"
     ]
    },
    {
     "name": "stderr",
     "output_type": "stream",
     "text": [
      "\u001b[34m\u001b[1mwandb\u001b[0m:   1 of 1 files downloaded.  \n",
      "\u001b[34m\u001b[1mwandb\u001b[0m:   1 of 1 files downloaded.  \n",
      "\u001b[34m\u001b[1mwandb\u001b[0m:   1 of 1 files downloaded.  \n",
      "\u001b[34m\u001b[1mwandb\u001b[0m:   1 of 1 files downloaded.  \n"
     ]
    },
    {
     "data": {
      "text/plain": [
       "<module 'prediction' from '/Users/cameron/Documents/mlx/hackernews/prediction.py'>"
      ]
     },
     "execution_count": 5,
     "metadata": {},
     "output_type": "execute_result"
    }
   ],
   "source": [
    "from models import upvote_predictor\n",
    "import importlib\n",
    "importlib.reload(upvote_predictor)\n",
    "from util import artifacts, cache\n",
    "importlib.reload(artifacts)\n",
    "import prediction\n",
    "importlib.reload(prediction)"
   ]
  },
  {
   "cell_type": "code",
   "execution_count": 6,
   "metadata": {},
   "outputs": [
    {
     "data": {
      "text/html": [
       "<div>\n",
       "<style scoped>\n",
       "    .dataframe tbody tr th:only-of-type {\n",
       "        vertical-align: middle;\n",
       "    }\n",
       "\n",
       "    .dataframe tbody tr th {\n",
       "        vertical-align: top;\n",
       "    }\n",
       "\n",
       "    .dataframe thead th {\n",
       "        text-align: right;\n",
       "    }\n",
       "</style>\n",
       "<table border=\"1\" class=\"dataframe\">\n",
       "  <thead>\n",
       "    <tr style=\"text-align: right;\">\n",
       "      <th></th>\n",
       "      <th>title</th>\n",
       "      <th>karma</th>\n",
       "      <th>score</th>\n",
       "      <th>predicted_score</th>\n",
       "    </tr>\n",
       "  </thead>\n",
       "  <tbody>\n",
       "    <tr>\n",
       "      <th>0</th>\n",
       "      <td>Oracle buys KSplice, shoots users in the foot</td>\n",
       "      <td>3342</td>\n",
       "      <td>2</td>\n",
       "      <td>1.670995</td>\n",
       "    </tr>\n",
       "    <tr>\n",
       "      <th>1</th>\n",
       "      <td>Change The Virtual Machine Date in Virtual Box...</td>\n",
       "      <td>1</td>\n",
       "      <td>1</td>\n",
       "      <td>1.098999</td>\n",
       "    </tr>\n",
       "    <tr>\n",
       "      <th>2</th>\n",
       "      <td>‘Kaantham’ - A film with a message</td>\n",
       "      <td>1</td>\n",
       "      <td>1</td>\n",
       "      <td>0.746261</td>\n",
       "    </tr>\n",
       "    <tr>\n",
       "      <th>3</th>\n",
       "      <td>Top 10: Swarmbots</td>\n",
       "      <td>1282</td>\n",
       "      <td>2</td>\n",
       "      <td>1.262890</td>\n",
       "    </tr>\n",
       "    <tr>\n",
       "      <th>4</th>\n",
       "      <td>For developers: How to build a business model ...</td>\n",
       "      <td>13</td>\n",
       "      <td>8</td>\n",
       "      <td>1.036162</td>\n",
       "    </tr>\n",
       "    <tr>\n",
       "      <th>5</th>\n",
       "      <td>Show HN: GeekRations</td>\n",
       "      <td>1641</td>\n",
       "      <td>4</td>\n",
       "      <td>1.807838</td>\n",
       "    </tr>\n",
       "    <tr>\n",
       "      <th>6</th>\n",
       "      <td>What's going to be the next \"really big\" thing?</td>\n",
       "      <td>71</td>\n",
       "      <td>1</td>\n",
       "      <td>1.055585</td>\n",
       "    </tr>\n",
       "    <tr>\n",
       "      <th>7</th>\n",
       "      <td>All your Favorite Cities in 8-Bit</td>\n",
       "      <td>5305</td>\n",
       "      <td>1</td>\n",
       "      <td>1.771759</td>\n",
       "    </tr>\n",
       "    <tr>\n",
       "      <th>8</th>\n",
       "      <td>500 reasons to vote against Mitt Romney and fo...</td>\n",
       "      <td>12</td>\n",
       "      <td>7</td>\n",
       "      <td>0.971087</td>\n",
       "    </tr>\n",
       "    <tr>\n",
       "      <th>9</th>\n",
       "      <td>'A Universe From Nothing' by Lawrence Krauss [...</td>\n",
       "      <td>7909</td>\n",
       "      <td>1</td>\n",
       "      <td>1.279634</td>\n",
       "    </tr>\n",
       "  </tbody>\n",
       "</table>\n",
       "</div>"
      ],
      "text/plain": [
       "                                               title  karma  score  \\\n",
       "0      Oracle buys KSplice, shoots users in the foot   3342      2   \n",
       "1  Change The Virtual Machine Date in Virtual Box...      1      1   \n",
       "2                ‘Kaantham’ - A film with a message       1      1   \n",
       "3                                  Top 10: Swarmbots   1282      2   \n",
       "4  For developers: How to build a business model ...     13      8   \n",
       "5                               Show HN: GeekRations   1641      4   \n",
       "6    What's going to be the next \"really big\" thing?     71      1   \n",
       "7                  All your Favorite Cities in 8-Bit   5305      1   \n",
       "8  500 reasons to vote against Mitt Romney and fo...     12      7   \n",
       "9  'A Universe From Nothing' by Lawrence Krauss [...   7909      1   \n",
       "\n",
       "   predicted_score  \n",
       "0         1.670995  \n",
       "1         1.098999  \n",
       "2         0.746261  \n",
       "3         1.262890  \n",
       "4         1.036162  \n",
       "5         1.807838  \n",
       "6         1.055585  \n",
       "7         1.771759  \n",
       "8         0.971087  \n",
       "9         1.279634  "
      ]
     },
     "execution_count": 6,
     "metadata": {},
     "output_type": "execute_result"
    }
   ],
   "source": [
    "items_table = \"hacker_news.items\"\n",
    "\n",
    "hn_test_posts = cache.query(\"hn_posts_for_test\", f\"\"\"SELECT\n",
    "    title,\n",
    "    karma,\n",
    "    score\n",
    "    FROM {items_table}\n",
    "    INNER JOIN hacker_news.users u ON {items_table}.by = u.id\n",
    "    WHERE type = 'story' AND title IS NOT null\n",
    "    OFFSET 1000000\n",
    "    LIMIT 10\n",
    "\"\"\")\n",
    "\n",
    "hn_test_posts.dropna(inplace=True)\n",
    "\n",
    "def predict_row(row):\n",
    "    return prediction.predict(row['title'], row['karma'])\n",
    "\n",
    "hn_test_posts['predicted_score'] = hn_test_posts.apply(predict_row, axis=1)\n",
    "hn_test_posts.head(10)"
   ]
  }
 ],
 "metadata": {
  "kernelspec": {
   "display_name": "mlx-8wZyJbLr-py3.13",
   "language": "python",
   "name": "python3"
  },
  "language_info": {
   "codemirror_mode": {
    "name": "ipython",
    "version": 3
   },
   "file_extension": ".py",
   "mimetype": "text/x-python",
   "name": "python",
   "nbconvert_exporter": "python",
   "pygments_lexer": "ipython3",
   "version": "3.13.1"
  }
 },
 "nbformat": 4,
 "nbformat_minor": 2
}
